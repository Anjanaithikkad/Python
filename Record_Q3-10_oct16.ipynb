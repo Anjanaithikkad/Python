{
 "cells": [
  {
   "cell_type": "code",
   "execution_count": 22,
   "id": "36df1eec",
   "metadata": {},
   "outputs": [
    {
     "name": "stdout",
     "output_type": "stream",
     "text": [
      "Enter a word:Anjana\n",
      "Modified word: ANJ$N$\n"
     ]
    }
   ],
   "source": [
    "a=input(\"Enter a word:\")\n",
    "s=a.upper()\n",
    "new_s=s[0]+s[1:].replace(s[0],'$')\n",
    "print(\"Modified word:\",new_s)"
   ]
  },
  {
   "cell_type": "code",
   "execution_count": 21,
   "id": "e30c55fa",
   "metadata": {},
   "outputs": [
    {
     "name": "stdout",
     "output_type": "stream",
     "text": [
      "Enter the Colors(comma-seperated):red,green,blue,black\n",
      "List of colors is: ['red', 'green', 'blue', 'black']\n",
      "First Color in the List is: red\n",
      "Last color in the List is: black\n"
     ]
    }
   ],
   "source": [
    "C=input(\"Enter the Colors(comma-seperated):\")\n",
    "C_list=C.split(\",\")\n",
    "print(\"List of colors is:\",C_list)\n",
    "print(\"First Color in the List is:\",C_list[0])\n",
    "print(\"Last color in the List is:\",C_list[-1])"
   ]
  },
  {
   "cell_type": "code",
   "execution_count": 24,
   "id": "91093397",
   "metadata": {},
   "outputs": [
    {
     "name": "stdout",
     "output_type": "stream",
     "text": [
      "Enter a Filename:exp.txt\n",
      "Extension of the Filename is: txt\n"
     ]
    }
   ],
   "source": [
    "Fn=input(\"Enter a Filename:\")\n",
    "Fn_e=Fn.split(\".\")\n",
    "print(\"Extension of the Filename is:\",Fn_e[-1])"
   ]
  },
  {
   "cell_type": "code",
   "execution_count": 28,
   "id": "32ec37e3",
   "metadata": {},
   "outputs": [
    {
     "name": "stdout",
     "output_type": "stream",
     "text": [
      "Enter the tuple (comma-seperated):10,20,30,40,50,60\n",
      "The tuple of elements is: ('10', '20', '30', '40', '50', '60')\n",
      "First Element is: 30\n",
      "Last Element is: 40\n"
     ]
    }
   ],
   "source": [
    "s=input(\"Enter the tuple (comma-seperated):\")\n",
    "s_tuple=tuple(s.split(\",\"))\n",
    "print(\"The tuple of elements is:\",s_tuple)\n",
    "print(\"First Element is:\",s_tuple[2])\n",
    "print(\"Last Element is:\",s_tuple[-3])"
   ]
  },
  {
   "cell_type": "code",
   "execution_count": 34,
   "id": "934c8724",
   "metadata": {},
   "outputs": [
    {
     "name": "stdout",
     "output_type": "stream",
     "text": [
      "Enter Color set1:red,green,blue,pink\n",
      "Enter Color Set2:pink,black,grey,orange\n",
      "{'red', 'blue', 'green'}\n"
     ]
    }
   ],
   "source": [
    "C1=input(\"Enter Color set1:\").split(\",\")\n",
    "C2=input(\"Enter Color Set2:\").split(\",\")\n",
    "set1 = set(C1)\n",
    "set2 = set(C2)\n",
    "m_c=set1-set2\n",
    "print(m_c)"
   ]
  },
  {
   "cell_type": "code",
   "execution_count": 11,
   "id": "0272cc32",
   "metadata": {},
   "outputs": [
    {
     "name": "stdout",
     "output_type": "stream",
     "text": [
      "Enter 3 student's names seperated by spaces:Anjana Sreya Soja\n",
      "Enter 2 student's names seperated by spaces:nada Hudha\n",
      "Merged Dictionary is: {1: 'Anjana', 2: 'Sreya', 3: 'Soja', 4: 'nada', 5: 'Hudha'}\n"
     ]
    }
   ],
   "source": [
    "n1=input(\"Enter 3 student's names seperated by spaces:\").split()\n",
    "dict1={1:n1[0],2:n1[1],3:n1[2]}\n",
    "n2=input(\"Enter 2 student's names seperated by spaces:\").split()\n",
    "dict2={4:n2[0],5:n2[1]}\n",
    "dict1.update(dict2)\n",
    "print(\"Merged Dictionary is:\",dict1)"
   ]
  },
  {
   "cell_type": "code",
   "execution_count": 12,
   "id": "db793759",
   "metadata": {},
   "outputs": [
    {
     "name": "stdout",
     "output_type": "stream",
     "text": [
      "Even Numbers Are: [2, 4, 6, 8, 10, 12, 14, 16, 18, 20, 22, 24]\n",
      "Sum of the NUmbers is: 156\n"
     ]
    }
   ],
   "source": [
    "Even_n=list(range(2,26,2))\n",
    "print(\"Even Numbers Are:\",Even_n)\n",
    "Sum_n=sum(range(2,26,2))\n",
    "print(\"Sum of the NUmbers is:\",Sum_n)\n"
   ]
  },
  {
   "cell_type": "code",
   "execution_count": 19,
   "id": "761a1454",
   "metadata": {},
   "outputs": [
    {
     "name": "stdout",
     "output_type": "stream",
     "text": [
      "Enter 5 Roll Numbers Seperated By commas:1,2,6,4,33\n",
      "Enter 5 student Names seperated by commas:anjana,soja,sreya,hudha,nada\n",
      "Dictionary: {'anjana': '1', 'soja': '2', 'sreya': '6', 'hudha': '4', 'nada': '33'}\n",
      "Sorted Dictionary in Ascending Order: {'anjana': '1', 'hudha': '4', 'nada': '33', 'soja': '2', 'sreya': '6'}\n",
      "Sorted Dictionary in Descending Order: {'sreya': '6', 'soja': '2', 'nada': '33', 'hudha': '4', 'anjana': '1'}\n"
     ]
    }
   ],
   "source": [
    "r=input(\"Enter 5 Roll Numbers Seperated By commas:\").split(\",\")\n",
    "n=input(\"Enter 5 student Names seperated by commas:\").split(\",\")\n",
    "d={n[0]:r[0],n[1]:r[1],n[2]:r[2],n[3]:r[3],n[4]:r[4]}\n",
    "print(\"Dictionary:\",d)\n",
    "s=dict(sorted(d.items(),reverse=False))\n",
    "print(\"Sorted Dictionary in Ascending Order:\",s)\n",
    "s=dict(sorted(d.items(),reverse=True))\n",
    "print(\"Sorted Dictionary in Descending Order:\",s)"
   ]
  },
  {
   "cell_type": "code",
   "execution_count": 24,
   "id": "6ce32dfe",
   "metadata": {},
   "outputs": [
    {
     "name": "stdout",
     "output_type": "stream",
     "text": [
      "HEllo\n"
     ]
    }
   ],
   "source": []
  },
  {
   "cell_type": "code",
   "execution_count": null,
   "id": "8a82d745",
   "metadata": {},
   "outputs": [],
   "source": []
  }
 ],
 "metadata": {
  "kernelspec": {
   "display_name": "Python 3 (ipykernel)",
   "language": "python",
   "name": "python3"
  },
  "language_info": {
   "codemirror_mode": {
    "name": "ipython",
    "version": 3
   },
   "file_extension": ".py",
   "mimetype": "text/x-python",
   "name": "python",
   "nbconvert_exporter": "python",
   "pygments_lexer": "ipython3",
   "version": "3.11.5"
  }
 },
 "nbformat": 4,
 "nbformat_minor": 5
}
