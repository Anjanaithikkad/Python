{
 "cells": [
  {
   "cell_type": "code",
   "execution_count": 19,
   "id": "0fade179-2199-43ca-ab2a-6c827d5e9869",
   "metadata": {},
   "outputs": [
    {
     "name": "stdout",
     "output_type": "stream",
     "text": [
      "1.Rectangle\n",
      "2. Circle\n",
      "3. Exit\n"
     ]
    },
    {
     "name": "stdin",
     "output_type": "stream",
     "text": [
      "Enter your choice:  1\n",
      "Enter LENGTH : 5\n",
      "Enter WIDTH : 10\n"
     ]
    },
    {
     "name": "stdout",
     "output_type": "stream",
     "text": [
      "Area of Rectangle is 50\n",
      "Perimeter of Rectangle is:  30\n",
      "1.Rectangle\n",
      "2. Circle\n",
      "3. Exit\n"
     ]
    },
    {
     "name": "stdin",
     "output_type": "stream",
     "text": [
      "Enter your choice:  3\n"
     ]
    },
    {
     "name": "stdout",
     "output_type": "stream",
     "text": [
      "Exiting...\n"
     ]
    }
   ],
   "source": [
    "import rect\n",
    "import circle1\n",
    "while(1):\n",
    "    print(\"1.Rectangle\\n2. Circle\\n3. Exit\")\n",
    "    ch=int(input(\"Enter your choice: \"))\n",
    "    if ch==1:\n",
    "        l=int(input(\"Enter LENGTH :\"))\n",
    "        w=int(input(\"Enter WIDTH :\"))\n",
    "        rect.rarea(l,w)\n",
    "        rect.aperi(l,w)\n",
    "    elif ch==2:\n",
    "        r=int(input(\"Enter radius :\"))\n",
    "        circle1.cearea(r)\n",
    "        circle1.cperi(r)\n",
    "    else:\n",
    "        print(\"Exiting...\")\n",
    "        break\n"
   ]
  }
 ],
 "metadata": {
  "kernelspec": {
   "display_name": "Python 3 (ipykernel)",
   "language": "python",
   "name": "python3"
  },
  "language_info": {
   "codemirror_mode": {
    "name": "ipython",
    "version": 3
   },
   "file_extension": ".py",
   "mimetype": "text/x-python",
   "name": "python",
   "nbconvert_exporter": "python",
   "pygments_lexer": "ipython3",
   "version": "3.11.5"
  }
 },
 "nbformat": 4,
 "nbformat_minor": 5
}
