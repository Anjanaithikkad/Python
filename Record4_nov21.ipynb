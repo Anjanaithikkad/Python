{
 "cells": [
  {
   "cell_type": "code",
   "execution_count": 12,
   "id": "83be2cf3",
   "metadata": {},
   "outputs": [
    {
     "name": "stdout",
     "output_type": "stream",
     "text": [
      "Enter the Text:hello world hello how are you\n",
      "[('hello', 2), ('you', 1), ('world', 1), ('are', 1), ('how', 1)]\n"
     ]
    }
   ],
   "source": [
    "txt=input(\"Enter the Text:\").split()\n",
    "print([(word,txt.count(word)) for word in set(txt)])"
   ]
  },
  {
   "cell_type": "code",
   "execution_count": 5,
   "id": "bbb5beda",
   "metadata": {},
   "outputs": [
    {
     "name": "stdout",
     "output_type": "stream",
     "text": [
      "Enter a list of Integers Separated by Spaces:200 140258 750 96 32 158 754 89 56\n",
      "The result is: ['over', 'over', 'over', 96, 32, 'over', 'over', 89, 56]\n"
     ]
    }
   ],
   "source": [
    "U = input(\"Enter a list of Integers Separated by Spaces:\").split(\" \")\n",
    "result = ['over' if int(num) > 100 else int(num) for num in U]\n",
    "print(\"The result is:\", result)"
   ]
  },
  {
   "cell_type": "code",
   "execution_count": 7,
   "id": "5e30d2bf",
   "metadata": {},
   "outputs": [
    {
     "name": "stdout",
     "output_type": "stream",
     "text": [
      "Enter a list of first names seperated by spaces:anjana soja nada hudha\n",
      "List of Names: ['anjana', 'soja', 'nada', 'hudha']\n",
      "Occurrrences of 'a': 7\n"
     ]
    }
   ],
   "source": [
    "names=input(\"Enter a list of first names seperated by spaces:\").split(\" \")\n",
    "c=0\n",
    "for name in names:\n",
    "    c+=name.lower().count('a')\n",
    "print(\"List of Names:\",names)\n",
    "print(\"Occurrrences of 'a':\",c)"
   ]
  },
  {
   "cell_type": "code",
   "execution_count": 15,
   "id": "84281167",
   "metadata": {},
   "outputs": [
    {
     "name": "stdout",
     "output_type": "stream",
     "text": [
      "Enter  first list of Integers seperated by spaces:10 20 7 3 15\n",
      "Enter  second list of Integers seperated by spaces:20 12 8 15\n",
      "List are of Same Length: False\n",
      "Lists Sums to same value: True\n",
      "Common Values: {20, 15}\n"
     ]
    }
   ],
   "source": [
    "l1=list(map(int,input(\"Enter  first list of Integers seperated by spaces:\").split()))\n",
    "l2=list(map(int,input(\"Enter  second list of Integers seperated by spaces:\").split()))\n",
    "S_l=len(l1)==len(l2)\n",
    "print(\"List are of Same Length:\",S_l)\n",
    "s_sum=sum(l1)==sum(l2)\n",
    "print(\"Lists Sums to same value:\",s_sum)\n",
    "C=set(l1).intersection(l2)\n",
    "print(\"Common Values:\",C)\n"
   ]
  },
  {
   "cell_type": "code",
   "execution_count": 17,
   "id": "767cd359",
   "metadata": {},
   "outputs": [
    {
     "name": "stdout",
     "output_type": "stream",
     "text": [
      "Enter list of integers separated by spaces: 10 -20 85 -47 63\n",
      "Positive numbers: [10, 85, 63]\n",
      "Enter a number: 7\n",
      "Squares: [1, 4, 9, 16, 25, 36, 49]\n",
      "Enter a word: encyclopedia\n",
      "Vowels: ['e', 'o', 'e', 'i', 'a']\n",
      "Enter a word: hello\n",
      "Ordinal values: [104, 101, 108, 108, 111]\n"
     ]
    }
   ],
   "source": [
    "numbers = list(map(int, input(\"Enter list of integers separated by spaces: \").split()))\n",
    "positive_numbers = [num for num in numbers if num > 0]\n",
    "print(\"Positive numbers:\", positive_numbers)\n",
    "\n",
    "n = int(input(\"Enter a number: \"))\n",
    "squares = [i**2 for i in range(1, n+1)]\n",
    "print(\"Squares:\", squares)\n",
    "\n",
    "word = input(\"Enter a word: \")\n",
    "vowels = [char for char in word if char.lower() in 'aeiou']\n",
    "print(\"Vowels:\", vowels)\n",
    "\n",
    "word = input(\"Enter a word: \")\n",
    "ordinal_values = [ord(char) for char in word]\n",
    "print(\"Ordinal values:\", ordinal_values)"
   ]
  },
  {
   "cell_type": "code",
   "execution_count": null,
   "id": "301471e3",
   "metadata": {},
   "outputs": [],
   "source": []
  }
 ],
 "metadata": {
  "kernelspec": {
   "display_name": "Python 3 (ipykernel)",
   "language": "python",
   "name": "python3"
  },
  "language_info": {
   "codemirror_mode": {
    "name": "ipython",
    "version": 3
   },
   "file_extension": ".py",
   "mimetype": "text/x-python",
   "name": "python",
   "nbconvert_exporter": "python",
   "pygments_lexer": "ipython3",
   "version": "3.11.5"
  }
 },
 "nbformat": 4,
 "nbformat_minor": 5
}
