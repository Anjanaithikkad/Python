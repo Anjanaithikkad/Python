{
 "cells": [
  {
   "cell_type": "code",
   "execution_count": 22,
   "id": "36df1eec",
   "metadata": {},
   "outputs": [
    {
     "name": "stdout",
     "output_type": "stream",
     "text": [
      "Enter a word:Anjana\n",
      "Modified word: ANJ$N$\n"
     ]
    }
   ],
   "source": [
    "a=input(\"Enter a word:\")\n",
    "s=a.upper()\n",
    "new_s=s[0]+s[1:].replace(s[0],'$')\n",
    "print(\"Modified word:\",new_s)"
   ]
  },
  {
   "cell_type": "code",
   "execution_count": 21,
   "id": "e30c55fa",
   "metadata": {},
   "outputs": [
    {
     "name": "stdout",
     "output_type": "stream",
     "text": [
      "Enter the Colors(comma-seperated):red,green,blue,black\n",
      "List of colors is: ['red', 'green', 'blue', 'black']\n",
      "First Color in the List is: red\n",
      "Last color in the List is: black\n"
     ]
    }
   ],
   "source": [
    "C=input(\"Enter the Colors(comma-seperated):\")\n",
    "C_list=C.split(\",\")\n",
    "print(\"List of colors is:\",C_list)\n",
    "print(\"First Color in the List is:\",C_list[0])\n",
    "print(\"Last color in the List is:\",C_list[-1])"
   ]
  },
  {
   "cell_type": "code",
   "execution_count": 24,
   "id": "91093397",
   "metadata": {},
   "outputs": [
    {
     "name": "stdout",
     "output_type": "stream",
     "text": [
      "Enter a Filename:exp.txt\n",
      "Extension of the Filename is: txt\n"
     ]
    }
   ],
   "source": [
    "Fn=input(\"Enter a Filename:\")\n",
    "Fn_e=Fn.split(\".\")\n",
    "print(\"Extension of the Filename is:\",Fn_e[-1])"
   ]
  },
  {
   "cell_type": "code",
   "execution_count": 28,
   "id": "32ec37e3",
   "metadata": {},
   "outputs": [
    {
     "name": "stdout",
     "output_type": "stream",
     "text": [
      "Enter the tuple (comma-seperated):10,20,30,40,50,60\n",
      "The tuple of elements is: ('10', '20', '30', '40', '50', '60')\n",
      "First Element is: 30\n",
      "Last Element is: 40\n"
     ]
    }
   ],
   "source": [
    "s=input(\"Enter the tuple (comma-seperated):\")\n",
    "s_tuple=tuple(s.split(\",\"))\n",
    "print(\"The tuple of elements is:\",s_tuple)\n",
    "print(\"First Element is:\",s_tuple[2])\n",
    "print(\"Last Element is:\",s_tuple[-3])"
   ]
  },
  {
   "cell_type": "code",
   "execution_count": 34,
   "id": "934c8724",
   "metadata": {},
   "outputs": [
    {
     "name": "stdout",
     "output_type": "stream",
     "text": [
      "Enter Color set1:red,green,blue,pink\n",
      "Enter Color Set2:pink,black,grey,orange\n",
      "{'red', 'blue', 'green'}\n"
     ]
    }
   ],
   "source": [
    "C1=input(\"Enter Color set1:\").split(\",\")\n",
    "C2=input(\"Enter Color Set2:\").split(\",\")\n",
    "set1 = set(C1)\n",
    "set2 = set(C2)\n",
    "m_c=set1-set2\n",
    "print(m_c)"
   ]
  },
  {
   "cell_type": "code",
   "execution_count": null,
   "id": "0272cc32",
   "metadata": {},
   "outputs": [],
   "source": []
  }
 ],
 "metadata": {
  "kernelspec": {
   "display_name": "Python 3 (ipykernel)",
   "language": "python",
   "name": "python3"
  },
  "language_info": {
   "codemirror_mode": {
    "name": "ipython",
    "version": 3
   },
   "file_extension": ".py",
   "mimetype": "text/x-python",
   "name": "python",
   "nbconvert_exporter": "python",
   "pygments_lexer": "ipython3",
   "version": "3.11.5"
  }
 },
 "nbformat": 4,
 "nbformat_minor": 5
}
