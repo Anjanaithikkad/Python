{
 "cells": [
  {
   "cell_type": "code",
   "execution_count": 8,
   "id": "5951514d",
   "metadata": {},
   "outputs": [
    {
     "name": "stdout",
     "output_type": "stream",
     "text": [
      "Enter a String:python\n",
      "Original String: python\n",
      "Modified String: nythop\n"
     ]
    }
   ],
   "source": []
  },
  {
   "cell_type": "code",
   "execution_count": 12,
   "id": "27cedf59",
   "metadata": {},
   "outputs": [
    {
     "name": "stdout",
     "output_type": "stream",
     "text": [
      "Enter a string:Python\n",
      "Modified string is: nythoP\n"
     ]
    }
   ],
   "source": [
    "x=input(\"Enter a string:\")\n",
    "y= x[-1]+x[1:-1]+x[0]\n",
    "print(\"Modified string is:\",y)"
   ]
  },
  {
   "cell_type": "code",
   "execution_count": 24,
   "id": "f63e8c54",
   "metadata": {},
   "outputs": [
    {
     "name": "stdout",
     "output_type": "stream",
     "text": [
      "Enter first String:Hello\n",
      "Enter Second String:World\n",
      "Wollo Herld\n"
     ]
    }
   ],
   "source": [
    "S1=input(\"Enter first String:\")\n",
    "S2=input(\"Enter Second String:\")\n",
    "print((S2[0:2])+(S1[2:])+\" \"+(S1[0:2])+(S2[2:]))"
   ]
  },
  {
   "cell_type": "code",
   "execution_count": null,
   "id": "cebd27cc",
   "metadata": {},
   "outputs": [],
   "source": []
  }
 ],
 "metadata": {
  "kernelspec": {
   "display_name": "Python 3 (ipykernel)",
   "language": "python",
   "name": "python3"
  },
  "language_info": {
   "codemirror_mode": {
    "name": "ipython",
    "version": 3
   },
   "file_extension": ".py",
   "mimetype": "text/x-python",
   "name": "python",
   "nbconvert_exporter": "python",
   "pygments_lexer": "ipython3",
   "version": "3.11.5"
  }
 },
 "nbformat": 4,
 "nbformat_minor": 5
}
