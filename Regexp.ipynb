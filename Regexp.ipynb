
{
 "cells": [
  {
   "cell_type": "code",
   "execution_count": 4,
   "id": "75312f3b",
   "metadata": {},
   "outputs": [
    {
     "name": "stdout",
     "output_type": "stream",
     "text": [
      "Enter text:nowadays hello\n",
      "Pattern not found!\n"
     ]
    }
   ],
   "source": [
    "import re\n",
    "pattern=\"hello\"\n",
    "text=input(\"Enter text:\")\n",
    "if re.match(pattern,text):\n",
    "    print(\"Pattern Found!\")\n",
    "else:\n",
    "    print(\"Pattern not found!\")"
   ]
  },
  {
   "cell_type": "code",
   "execution_count": 9,
   "id": "f501e83b",
   "metadata": {},
   "outputs": [
    {
     "name": "stdout",
     "output_type": "stream",
     "text": [
      "Enter emails and phone numbers separated by commas: abc@gmail.com,7012577731\n",
      "\n",
      "Valid Emails:\n",
      "- abc@gmail.com\n",
      "\n",
      "Valid Phone Numbers:\n",
      "- 7012577731\n"
     ]
    }
   ],
   "source": [
    "import re\n",
    "\n",
    "email_pattern = r'^[a-zA-Z0-9._%+-]+@[a-zA-Z0-9.-]+\\.[a-zA-Z]{2,}$'\n",
    "phone_pattern = r'^\\+?\\d{0,2}[-\\s]?\\d{10}$'\n",
    "\n",
    "user_input = input(\"Enter emails and phone numbers separated by commas: \")\n",
    "\n",
    "inputs = [item.strip() for item in user_input.split(\",\")]\n",
    " \n",
    "valid_emails = []\n",
    "valid_phone_numbers = []\n",
    " \n",
    "for item in inputs:\n",
    "    if re.match(email_pattern, item):\n",
    "        valid_emails.append(item)\n",
    "    elif re.match(phone_pattern, item): \n",
    "        valid_phone_numbers.append(item)\n",
    " \n",
    "        print(\"\\nValid Emails:\")\n",
    "        for email in valid_emails:\n",
    "            print(f\"- {email}\")\n",
    "            print(\"\\nValid Phone Numbers:\")\n",
    "            for phone in valid_phone_numbers:\n",
    "                print(f\"- {phone}\")"
   ]
  },
  {
   "cell_type": "code",
   "execution_count": null,
   "id": "d36615b7",
   "metadata": {},
   "outputs": [],
   "source": []
  }
 ],
 "metadata": {
  "kernelspec": {
   "display_name": "Python 3 (ipykernel)",
   "language": "python",
   "name": "python3"
  },
  "language_info": {
   "codemirror_mode": {
    "name": "ipython",
    "version": 3
   },
   "file_extension": ".py",
   "mimetype": "text/x-python",
   "name": "python",
   "nbconvert_exporter": "python",
   "pygments_lexer": "ipython3",
   "version": "3.11.5"
  }
 },
 "nbformat": 4,
 "nbformat_minor": 5
}
