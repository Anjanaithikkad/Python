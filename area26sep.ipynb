{
 "cells": [
  {
   "cell_type": "code",
   "execution_count": 1,
   "id": "79d8f297",
   "metadata": {},
   "outputs": [
    {
     "name": "stdout",
     "output_type": "stream",
     "text": [
      "Enter the sides of the Square:4\n",
      "The Area of the Square is: 16\n"
     ]
    }
   ],
   "source": [
    "s=int(input(\"Enter the sides of the Square:\"))\n",
    "area=s**2\n",
    "print(\"The Area of the Square is:\",area)"
   ]
  },
  {
   "cell_type": "code",
   "execution_count": 2,
   "id": "7fb27591",
   "metadata": {},
   "outputs": [
    {
     "name": "stdout",
     "output_type": "stream",
     "text": [
      "Enter Base of Right Angled Triangle:6\n",
      "Enter Height of Right Angled Triangle:4\n",
      "Area of Right Angled Triangle: 12.0\n"
     ]
    }
   ],
   "source": [
    "b=float(input(\"Enter Base of Right Angled Triangle:\"))\n",
    "h=float(input(\"Enter Height of Right Angled Triangle:\"))\n",
    "area=0.5*b*h\n",
    "print(\"Area of Right Angled Triangle:\",area)"
   ]
  },
  {
   "cell_type": "markdown",
   "id": "c7bc66d3",
   "metadata": {},
   "source": []
  },
  {
   "cell_type": "code",
   "execution_count": 13,
   "id": "bd1f9ce5",
   "metadata": {},
   "outputs": [
    {
     "name": "stdout",
     "output_type": "stream",
     "text": [
      "Enter Your Name:Anjana\n",
      "Hello,Anjana!\n"
     ]
    }
   ],
   "source": [
    "n=input(\"Enter Your Name:\")\n",
    "print(f\"Hello,{n}!\")"
   ]
  },
  {
   "cell_type": "code",
   "execution_count": 14,
   "id": "ca0d994e",
   "metadata": {},
   "outputs": [
    {
     "name": "stdout",
     "output_type": "stream",
     "text": [
      "Enter an Integer value:6\n",
      "Previous Number is: 5\n",
      "Next Number is: 7\n"
     ]
    }
   ],
   "source": [
    "x=int(input(\"Enter an Integer value:\"))\n",
    "y=x-1\n",
    "z=x+1\n",
    "print(\"Previous Number is:\",y)\n",
    "print(\"Next Number is:\",z)\n"
   ]
  },
  {
   "cell_type": "code",
   "execution_count": 15,
   "id": "510acf06",
   "metadata": {},
   "outputs": [
    {
     "name": "stdout",
     "output_type": "stream",
     "text": [
      "Enter the Principle Amount:1000\n",
      "Enter the Rate of Interest:5\n",
      "Enter the Time Period:2\n",
      "The Simple Interest is: 100.0\n"
     ]
    }
   ],
   "source": [
    "p=int(input(\"Enter the Principle Amount:\"))\n",
    "r=int(input(\"Enter the Rate of Interest:\"))\n",
    "t=int(input(\"Enter the Time Period:\"))\n",
    "si= p*r*t/100\n",
    "print(\"The Simple Interest is:\",si)"
   ]
  },
  {
   "cell_type": "code",
   "execution_count": null,
   "id": "87ffc2fa",
   "metadata": {},
   "outputs": [],
   "source": []
  }
 ],
 "metadata": {
  "kernelspec": {
   "display_name": "Python 3 (ipykernel)",
   "language": "python",
   "name": "python3"
  },
  "language_info": {
   "codemirror_mode": {
    "name": "ipython",
    "version": 3
   },
   "file_extension": ".py",
   "mimetype": "text/x-python",
   "name": "python",
   "nbconvert_exporter": "python",
   "pygments_lexer": "ipython3",
   "version": "3.11.5"
  }
 },
 "nbformat": 4,
 "nbformat_minor": 5
}

