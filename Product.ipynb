{
 "cells": [
  {
   "cell_type": "code",
   "execution_count": 1,
   "id": "2d739c91",
   "metadata": {},
   "outputs": [
    {
     "name": "stdout",
     "output_type": "stream",
     "text": [
      "Enter the Price of product A:30\n",
      "Enter the Price of product B:430\n",
      "Enter the Price of product C:40\n",
      "Total price of the Product is:$500.0\n",
      "Final price(after 15% Discount) is:$425.0\n",
      "Average price of the Product is:$166.67\n",
      "Product A is Expensive than Final price: False\n",
      "Product B is Expensive than Final price: True\n",
      "Product C is Expensive than Final price: False\n",
      "Final price is in the range of $50 to $200: False\n"
     ]
    }
   ],
   "source": [
    "A=float(input(\"Enter the Price of product A:\"))\n",
    "B=float(input(\"Enter the Price of product B:\"))\n",
    "C=float(input(\"Enter the Price of product C:\"))\n",
    "Total_price=A+B+C\n",
    "print(f\"Total price of the Product is:${Total_price}\")\n",
    "Discount=Total_price*0.15\n",
    "Final_price=Total_price-Discount\n",
    "print(f\"Final price(after 15% Discount) is:${Final_price}\")\n",
    "Avg=Total_price/3\n",
    "print(f\"Average price of the Product is:${Avg:.2f}\")\n",
    "print(\"Product A is Expensive than Final price:\",A>Final_price)\n",
    "print(\"Product B is Expensive than Final price:\",B>Final_price)\n",
    "print(\"Product C is Expensive than Final price:\",C>Final_price)\n",
    "print(\"Final price is in the range of $50 to $200:\",50<=Final_price<=200)"
   ]
  },
  {
   "cell_type": "code",
   "execution_count": null,
   "id": "610ef603",
   "metadata": {},
   "outputs": [],
   "source": []
  }
 ],
 "metadata": {
  "kernelspec": {
   "display_name": "Python 3 (ipykernel)",
   "language": "python",
   "name": "python3"
  },
  "language_info": {
   "codemirror_mode": {
    "name": "ipython",
    "version": 3
   },
   "file_extension": ".py",
   "mimetype": "text/x-python",
   "name": "python",
   "nbconvert_exporter": "python",
   "pygments_lexer": "ipython3",
   "version": "3.11.5"
  }
 },
 "nbformat": 4,
 "nbformat_minor": 5
}
