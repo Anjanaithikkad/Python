{
 "cells": [
  {
   "cell_type": "code",
   "execution_count": 3,
   "id": "b5f5574c-1d99-4ad5-ab36-f09726370deb",
   "metadata": {},
   "outputs": [
    {
     "name": "stdin",
     "output_type": "stream",
     "text": [
      "Enter the source file:  kmct.txt\n"
     ]
    },
    {
     "name": "stdout",
     "output_type": "stream",
     "text": [
      "Lines in the file:  2\n"
     ]
    }
   ],
   "source": [
    "#1.read a file line by line and store it into a list. \n",
    "l=[]\n",
    "file1=input(\"Enter the source file: \")\n",
    "f=open(file1,\"r\")\n",
    "for line in f.readlines():\n",
    "    l.append(line)\n",
    "print(\"Lines in the file: \",len(l))"
   ]
  },
  {
   "cell_type": "code",
   "execution_count": 11,
   "id": "7ad3cbb9-6d40-40ee-8d30-3e6e4b7a49c1",
   "metadata": {},
   "outputs": [
    {
     "name": "stdin",
     "output_type": "stream",
     "text": [
      "Enter the source file:  pqr.txt\n",
      "Enter destination file:  xyz.txt\n"
     ]
    },
    {
     "name": "stdout",
     "output_type": "stream",
     "text": [
      "This is line 1.\n",
      "This is line 3.\n",
      "This is line 5.\n",
      "This is line 7.\n",
      "\n"
     ]
    }
   ],
   "source": [
    "# 2 copy odd lines of one file to other \n",
    "file1=input(\"Enter the source file: \")\n",
    "file2=input(\"Enter destination file: \")\n",
    "f1=open(file1,\"r\")\n",
    "f2=open(file2,\"w\")\n",
    "i=0\n",
    "for line in f1.readlines():\n",
    "    i=i+1\n",
    "    if i%2==0:\n",
    "        continue\n",
    "    f2.write(line)\n",
    "f1.close()\n",
    "f2.close()\n",
    "f1=open(file2,\"r\")\n",
    "print(f1.read())"
   ]
  },
  {
   "cell_type": "code",
   "execution_count": 3,
   "id": "dc00c2f3-b79b-4e5a-be58-c7cd3ba104ad",
   "metadata": {},
   "outputs": [
    {
     "name": "stdin",
     "output_type": "stream",
     "text": [
      "Enter csv file name:  kmct.csv\n"
     ]
    },
    {
     "name": "stdout",
     "output_type": "stream",
     "text": [
      "['HI KSB KMCT MCA']\n",
      "['computer application']\n"
     ]
    }
   ],
   "source": [
    "# 3.read each row from a given csv file and print a list of strings. \n",
    "\n",
    "import csv\n",
    "fname=input(\"Enter csv file name: \")\n",
    "f1=open(fname,\"r\")\n",
    "reader=csv.reader(f1)\n",
    "for row in reader:\n",
    "    print(row)\n",
    "f1.close()"
   ]
  },
  {
   "cell_type": "code",
   "execution_count": 1,
   "id": "8eb68566-d139-4305-9ea0-0c5dd7fcc051",
   "metadata": {},
   "outputs": [
    {
     "name": "stdin",
     "output_type": "stream",
     "text": [
      "Enter CSV file name:  kmct.csv\n",
      "Enter the column indices:  1,4\n"
     ]
    },
    {
     "name": "stdout",
     "output_type": "stream",
     "text": [
      "[]\n",
      "[]\n",
      "['ajay', '50lakh']\n",
      "['anjana', '15lakh']\n"
     ]
    }
   ],
   "source": [
    "#4 read specific columns of a given CSV file\n",
    "import csv\n",
    "\n",
    "fname = input(\"Enter CSV file name: \")\n",
    "col_input = input(\"Enter the column indices: \")\n",
    "col_to_read = [int(index) for index in col_input.split(',')]\n",
    "\n",
    "f1 = open(fname, \"r\")\n",
    "reader = csv.reader(f1)\n",
    "\n",
    "for row in reader:\n",
    "     sel_col = [row[i] for i in col_to_read if i < len(row)]\n",
    "     print(sel_col)"
   ]
  },
  {
   "cell_type": "code",
   "execution_count": 6,
   "id": "5952b571-fd33-465c-bb64-f9cc34ea8b94",
   "metadata": {},
   "outputs": [
    {
     "name": "stdin",
     "output_type": "stream",
     "text": [
      "Enter new source file name:  kmct.csv\n",
      "Enter comma seperated empid,empname,dptname,dob,salary:  321,ajay,sales,12/07/2000,50lakh\n",
      "Enter comma seperated empid,empname,dptname,dob,salary:  123,anjana,manager,12/08/1980,15lakh\n"
     ]
    },
    {
     "name": "stdout",
     "output_type": "stream",
     "text": [
      "The csv file contains: \n",
      "{'HI KSB KMCT MCA': 'computer application'}\n"
     ]
    }
   ],
   "source": [
    " #5 write a Python dictionary to a csv file.\n",
    "import csv\n",
    "file1=input(\"Enter new source file name: \")\n",
    "with open(file1,\"a+\",newline='')as f1:\n",
    "    empdata=[\"empid\",\"empname\",\"dptname\",\"dob\",\"salary\"]\n",
    "    l=[]\n",
    "    writer=csv.DictWriter(f1,fieldnames=empdata)\n",
    "    for i in range(2):\n",
    "        l=list(input(\"Enter comma seperated empid,empname,dptname,dob,salary: \").split(\",\"))\n",
    "        writer.writerow({'empid':l[0],'empname':l[1],'dptname':l[2],'dob':l[3],'salary':l[4]})\n",
    "        l.clear()\n",
    "    print(\"The csv file contains: \")\n",
    "    with open(file1,'r') as f2:\n",
    "        rdr=csv.DictReader(f2)\n",
    "        for item in rdr:\n",
    "            print(dict(item))"
   ]
  },
  {
   "cell_type": "code",
   "execution_count": null,
   "id": "fd911e00-7102-490a-8119-bb2a1da7c237",
   "metadata": {},
   "outputs": [],
   "source": []
  }
 ],
 "metadata": {
  "kernelspec": {
   "display_name": "Python 3 (ipykernel)",
   "language": "python",
   "name": "python3"
  },
  "language_info": {
   "codemirror_mode": {
    "name": "ipython",
    "version": 3
   },
   "file_extension": ".py",
   "mimetype": "text/x-python",
   "name": "python",
   "nbconvert_exporter": "python",
   "pygments_lexer": "ipython3",
   "version": "3.11.5"
  }
 },
 "nbformat": 4,
 "nbformat_minor": 5
}
