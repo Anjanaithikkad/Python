
{
 "cells": [
  {
   "cell_type": "code",
   "execution_count": 2,
   "id": "dba6682c",
   "metadata": {},
   "outputs": [
    {
     "name": "stdout",
     "output_type": "stream",
     "text": [
      "Enter the first number: 24\n",
      "Enter the second number: 78\n",
      "The GCD of 24 and 78 is: 6\n"
     ]
    }
   ],
   "source": [
    "import math\n",
    "\n",
    "a = int(input(\"Enter the first number: \"))\n",
    "b = int(input(\"Enter the second number: \"))\n",
    "\n",
    "gcd = math.gcd(a, b)\n",
    "print(\"The GCD of\", a, \"and\", b, \"is:\", gcd)"
   ]
  },
  {
   "cell_type": "code",
   "execution_count": 4,
   "id": "2141a42a",
   "metadata": {},
   "outputs": [
    {
     "name": "stdout",
     "output_type": "stream",
     "text": [
      "Enter integers separated by spaces: 12 23 45 56 78 89 25 14 36\n",
      "List without even numbers: [23, 45, 89, 25]\n"
     ]
    }
   ],
   "source": [
    "numbers = list(map(int, input(\"Enter integers separated by spaces: \").split()))\n",
    "odd_numbers = [num for num in numbers if num % 2 != 0]\n",
    "print(\"List without even numbers:\", odd_numbers)"
   ]
  },
  {
   "cell_type": "code",
   "execution_count": 5,
   "id": "82eb5d6a",
   "metadata": {},
   "outputs": [
    {
     "name": "stdout",
     "output_type": "stream",
     "text": [
      "Enter integers separated by spaces: 12 52 23 36 14\n",
      "The sum of all items: 137\n"
     ]
    }
   ],
   "source": [
    "numbers = list(map(int, input(\"Enter integers separated by spaces: \").split()))\n",
    "total_sum = sum(numbers)\n",
    "print(\"The sum of all items:\", total_sum)\n"
   ]
  },
  {
   "cell_type": "code",
   "execution_count": 8,
   "id": "3910616b",
   "metadata": {},
   "outputs": [
    {
     "name": "stdout",
     "output_type": "stream",
     "text": [
      "Enter the start of the range: 1000\n",
      "Enter the end of the range: 9999\n",
      "Perfect square numbers with all even digits: [4624, 6084, 6400, 8464]\n"
     ]
    }
   ],
   "source": [
    "R_from= int(input(\"Enter the start of the range: \"))\n",
    "R_to= int(input(\"Enter the end of the range: \"))\n",
    "\n",
    "result = [num for num in range(R_from, R_to+1) \n",
    "          if num % 2 == 0 and all(int(digit) % 2 == 0 for digit in str(num)) and (int(num ** 0.5)) ** 2 == num]\n",
    "\n",
    "print(\"Perfect square numbers with all even digits:\", result)\n"
   ]
  },
  {
   "cell_type": "code",
   "execution_count": 11,
   "id": "9bb3a904",
   "metadata": {},
   "outputs": [
    {
     "name": "stdout",
     "output_type": "stream",
     "text": [
      "Enter the string: anjana\n",
      "{'a': 3, 'n': 2, 'j': 1}\n"
     ]
    }
   ],
   "source": [
    "txt= input(\"Enter the string: \")\n",
    "c={}\n",
    "for char in txt:\n",
    "    if char in c:\n",
    "        c[char] += 1\n",
    "    else:\n",
    "        c[char] = 1\n",
    "print(c)"
   ]
  },
  {
   "cell_type": "code",
   "execution_count": 20,
   "id": "ec843501",
   "metadata": {},
   "outputs": [
    {
     "name": "stdout",
     "output_type": "stream",
     "text": [
      "Enter a string:playing\n",
      "Modified Text is: playingly\n"
     ]
    }
   ],
   "source": [
    "txt = input(\"Enter a string:\")\n",
    "if txt[-3:] == \"ing\":\n",
    "    txt += \"ly\"\n",
    "else:\n",
    "    txt += \"ing\"\n",
    "print(\"Modified Text is:\", txt)"
   ]
  },
  {
   "cell_type": "code",
   "execution_count": null,
   "id": "cb1306ec",
   "metadata": {},
   "outputs": [],
   "source": []
  }
 ],
 "metadata": {
  "kernelspec": {
   "display_name": "Python 3 (ipykernel)",
   "language": "python",
   "name": "python3"
  },
  "language_info": {
   "codemirror_mode": {
    "name": "ipython",
    "version": 3
   },
   "file_extension": ".py",
   "mimetype": "text/x-python",
   "name": "python",
   "nbconvert_exporter": "python",
   "pygments_lexer": "ipython3",
   "version": "3.11.5"
  }
 },
 "nbformat": 4,
 "nbformat_minor": 5
}
