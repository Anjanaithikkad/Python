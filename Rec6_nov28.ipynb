
{
 "cells": [
  {
   "cell_type": "code",
   "execution_count": 11,
   "id": "14316b26",
   "metadata": {},
   "outputs": [
    {
     "name": "stdout",
     "output_type": "stream",
     "text": [
      "Enter the Final Year:2050\n",
      "Leap Years from 2024 to 2050 are:\n",
      "2024\n",
      "2028\n",
      "2032\n",
      "2036\n",
      "2040\n",
      "2044\n",
      "2048\n"
     ]
    }
   ],
   "source": [
    "#leap year\n",
    "def leap(Finalyear):\n",
    "    #c=int(input(\"Enter the Current Year:\"))\n",
    "    print(f\"Leap Years from 2024 to {Finalyear} are:\")\n",
    "    for year in range(2024,Finalyear+1):\n",
    "        if (year % 4 == 0 and year % 100 != 0) or (year % 400 == 0):\n",
    "            print(year)\n",
    "Finalyear=int(input(\"Enter the Final Year:\"))\n",
    "leap(Finalyear)"
   ]
  },
  {
   "cell_type": "code",
   "execution_count": 23,
   "id": "0dc665e9",
   "metadata": {
    "scrolled": true
   },
   "outputs": [
    {
     "name": "stdout",
     "output_type": "stream",
     "text": [
      "Enter a Number:8\n",
      "The Factorial of 8 is: 40320\n"
     ]
    }
   ],
   "source": [
    "#Factorial\n",
    "def fact(n):\n",
    "    r=1\n",
    "    for i in range(1,n+1):\n",
    "        r*=i\n",
    "    return r\n",
    "n=int(input(\"Enter a Number:\"))\n",
    "print(f\"The Factorial of {n} is:\",fact(n))\n"
   ]
  },
  {
   "cell_type": "code",
   "execution_count": 26,
   "id": "ed9a96e9",
   "metadata": {},
   "outputs": [
    {
     "name": "stdout",
     "output_type": "stream",
     "text": [
      "Enter the Number of Terms:8\n",
      "Fibonacci series of 8 terms are:\n",
      "0 1 1 2 3 5 8 13 "
     ]
    }
   ],
   "source": [
    "#Fibonacci\n",
    "def fib(n):\n",
    "    a,b=0,1\n",
    "    print(f\"Fibonacci series of {n} terms are:\")\n",
    "    for i in range(n):\n",
    "        print(a,end=\" \")\n",
    "        a,b=b,a+b\n",
    "n=int(input(\"Enter the Number of Terms:\"))\n",
    "fib(n)\n"
   ]
  },
  {
   "cell_type": "code",
   "execution_count": 31,
   "id": "3e11059a",
   "metadata": {},
   "outputs": [
    {
     "name": "stdout",
     "output_type": "stream",
     "text": [
      "Enter a list of words seperated by spaces:anjana sreya nada hudha sojavijay\n",
      "The Length of the Longest word is:9\n"
     ]
    }
   ],
   "source": [
    "# Length of longest word in the List\n",
    "def  lon_word(words):\n",
    "    long_word=\"\"\n",
    "    m_len=0\n",
    "    for word in words:\n",
    "        word_len=0\n",
    "        for char in word:\n",
    "            word_len+=1\n",
    "            if word_len>m_len:\n",
    "                long_word=word\n",
    "                m_len=word_len\n",
    "    return m_len\n",
    "words=input(\"Enter a list of words seperated by spaces:\").split()\n",
    "print(f\"The Length of the Longest word is:{lon_word(words)}\")"
   ]
  },
  {
   "cell_type": "code",
   "execution_count": 34,
   "id": "a150baa4",
   "metadata": {},
   "outputs": [
    {
     "name": "stdout",
     "output_type": "stream",
     "text": [
      "* \n",
      "* * \n",
      "* * * \n",
      "* * * * \n",
      "* * * * * \n",
      "* * * * \n",
      "* * * \n",
      "* * \n",
      "* \n"
     ]
    }
   ],
   "source": [
    "#Pattern\n",
    "def print_pattern():\n",
    "    for i in range(1, 6):  \n",
    "        for j in range(i): \n",
    "            print(\"*\", end=\" \")\n",
    "        print()\n",
    "    for i in range(4, 0, -1):  \n",
    "        for j in range(i): \n",
    "            print(\"*\", end=\" \")\n",
    "        print()  \n",
    "print_pattern()\n"
   ]
  },
  {
   "cell_type": "code",
   "execution_count": 1,
   "id": "cbf899fc",
   "metadata": {},
   "outputs": [
    {
     "name": "stdout",
     "output_type": "stream",
     "text": [
      "Enter a number: 5\n",
      "The factors of 5 are: [1, 5]\n"
     ]
    }
   ],
   "source": [
    "#factors of number\n",
    "def get_factors(number):\n",
    "    factors = []\n",
    "    for i in range(1, number + 1):\n",
    "        if number % i == 0:\n",
    "            factors.append(i)\n",
    "    return factors\n",
    "\n",
    "num = int(input(\"Enter a number: \"))\n",
    "factors = get_factors(num)\n",
    "print(f\"The factors of {num} are: {factors}\")\n"
   ]
  },
  {
   "cell_type": "code",
   "execution_count": 2,
   "id": "55c89396",
   "metadata": {},
   "outputs": [
    {
     "name": "stdout",
     "output_type": "stream",
     "text": [
      "Enter the number of steps: 6\n",
      "1\n",
      "2 4\n",
      "3 6 9\n",
      "4 8 12 16\n",
      "5 10 15 20 25\n",
      "6 12 18 24 30 36\n"
     ]
    }
   ],
   "source": [
    "# step pyramid\n",
    "def pyramid(steps):\n",
    "    for i in range(1, steps + 1):\n",
    "        row = []\n",
    "        for j in range(1, i + 1):\n",
    "            row.append(i * j) \n",
    "        print(\" \".join(map(str, row)))  \n",
    "\n",
    "steps = int(input(\"Enter the number of steps: \"))\n",
    "pyramid(steps)\n"
   ]
  },
  {
   "cell_type": "code",
   "execution_count": 3,
   "id": "f18eea8c",
   "metadata": {},
   "outputs": [
    {
     "name": "stdout",
     "output_type": "stream",
     "text": [
      "Enter the side length of the square: 10\n",
      "Enter the length of the rectangle: 10\n",
      "Enter the width of the rectangle: 5\n",
      "Enter the base of the triangle: 20\n",
      "Enter the height of the triangle: 10\n",
      "Area of square: 100.0\n",
      "Area of rectangle: 50.0\n",
      "Area of triangle: 100.0\n"
     ]
    }
   ],
   "source": [
    "#lambda function\n",
    "area_square = lambda side: side * side\n",
    "area_rectangle = lambda length, width: length * width\n",
    "area_triangle = lambda base, height: 0.5 * base * height\n",
    "\n",
    "side = float(input(\"Enter the side length of the square: \"))\n",
    "length = float(input(\"Enter the length of the rectangle: \"))\n",
    "width = float(input(\"Enter the width of the rectangle: \"))\n",
    "base = float(input(\"Enter the base of the triangle: \"))\n",
    "height = float(input(\"Enter the height of the triangle: \"))\n",
    "\n",
    "print(f\"Area of square: {area_square(side)}\")\n",
    "print(f\"Area of rectangle: {area_rectangle(length, width)}\")\n",
    "print(f\"Area of triangle: {area_triangle(base, height)}\")\n"
   ]
  },
  {
   "cell_type": "code",
   "execution_count": null,
   "id": "c8a91037",
   "metadata": {},
   "outputs": [],
   "source": []
  }
 ],
 "metadata": {
  "kernelspec": {
   "display_name": "Python 3 (ipykernel)",
   "language": "python",
   "name": "python3"
  },
  "language_info": {
   "codemirror_mode": {
    "name": "ipython",
    "version": 3
   },
   "file_extension": ".py",
   "mimetype": "text/x-python",
   "name": "python",
   "nbconvert_exporter": "python",
   "pygments_lexer": "ipython3",
   "version": "3.11.5"
  }
 },
 "nbformat": 4,
 "nbformat_minor": 5
}
