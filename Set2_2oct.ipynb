
{
 "cells": [
  {
   "cell_type": "code",
   "execution_count": 8,
   "id": "a11381cd",
   "metadata": {},
   "outputs": [
    {
     "name": "stdout",
     "output_type": "stream",
     "text": [
      "Enter a Number:-2\n",
      "The Number -2.0 is Negetive\n"
     ]
    }
   ],
   "source": [
    "num=float(input(\"Enter a Number:\"))\n",
    "if num>0:\n",
    "    print(f\"The Number {num} is Positive\")\n",
    "elif num<0:\n",
    "    print(f\"The Number {num} is Negetive\" )\n",
    "else:\n",
    "    print(f\"The Number {num} is Zero\")"
   ]
  },
  {
   "cell_type": "code",
   "execution_count": 12,
   "id": "078f93a1",
   "metadata": {},
   "outputs": [
    {
     "name": "stdout",
     "output_type": "stream",
     "text": [
      "Enter a Number:5\n",
      "The Number 5 is Odd\n"
     ]
    }
   ],
   "source": [
    "num=int(input(\"Enter a Number:\"))\n",
    "if num%2==0:\n",
    "    print(f\"The Number {num} is Even\")\n",
    "else:\n",
    "    print(f\"The Number {num} is Odd\")"
   ]
  },
  {
   "cell_type": "code",
   "execution_count": 13,
   "id": "fdde66fa",
   "metadata": {
    "scrolled": true
   },
   "outputs": [
    {
     "name": "stdout",
     "output_type": "stream",
     "text": [
      "Enter First Number:5\n",
      "Enter Second NUmber:3\n",
      "Swapped NUmbers Are:\n",
      "First Number: 3\n",
      "Second NUmber: 5\n"
     ]
    }
   ],
   "source": [
    "a=int(input(\"Enter First Number:\"))\n",
    "b=int(input(\"Enter Second NUmber:\"))\n",
    "a,b=b,a\n",
    "print(\"Swapped NUmbers Are:\")\n",
    "print(\"First Number:\",a)\n",
    "print(\"Second NUmber:\",b)"
   ]
  },
  {
   "cell_type": "code",
   "execution_count": 21,
   "id": "208478ba",
   "metadata": {},
   "outputs": [
    {
     "name": "stdout",
     "output_type": "stream",
     "text": [
      "Enter a Character:A\n",
      "The Character A is Vowel\n"
     ]
    }
   ],
   "source": [
    "c=input(\"Enter a Character:\")\n",
    "if(c=='a' or c=='e' or c=='i' or c=='o' or c=='u' or c=='A' or c=='E' or c=='I' or c=='O' or c=='U'):\n",
    "    print(f\"The Character {c} is Vowel\")\n",
    "else:\n",
    "    print(f\"The Character {c} is Not Vowel\")"
   ]
  },
  {
   "cell_type": "code",
   "execution_count": 23,
   "id": "0e72c33d",
   "metadata": {},
   "outputs": [
    {
     "name": "stdout",
     "output_type": "stream",
     "text": [
      "Enter a Number:6\n",
      "The Square of 6.0 is:36.0\n"
     ]
    }
   ],
   "source": [
    "num=float(input(\"Enter a Number:\"))\n",
    "square=num**2\n",
    "print(f\"The Square of {num} is:{square}\")"
   ]
  },
  {
   "cell_type": "code",
   "execution_count": 25,
   "id": "9deed1b9",
   "metadata": {},
   "outputs": [
    {
     "ename": "KeyboardInterrupt",
     "evalue": "Interrupted by user",
     "output_type": "error",
     "traceback": [
      "\u001b[0;31m---------------------------------------------------------------------------\u001b[0m",
      "\u001b[0;31mKeyboardInterrupt\u001b[0m                         Traceback (most recent call last)",
      "Cell \u001b[0;32mIn[25], line 1\u001b[0m\n\u001b[0;32m----> 1\u001b[0m num\u001b[38;5;241m=\u001b[39m\u001b[38;5;28mfloat\u001b[39m(\u001b[38;5;28minput\u001b[39m(\u001b[38;5;124m\"\u001b[39m\u001b[38;5;124mEnter a Number:\u001b[39m\u001b[38;5;124m\"\u001b[39m))\n\u001b[1;32m      2\u001b[0m \u001b[38;5;28;01mif\u001b[39;00m num\u001b[38;5;241m%\u001b[39m\u001b[38;5;241m5\u001b[39m\u001b[38;5;241m==\u001b[39m\u001b[38;5;241m0\u001b[39m:\n\u001b[1;32m      3\u001b[0m     \u001b[38;5;28mprint\u001b[39m(\u001b[38;5;124mf\u001b[39m\u001b[38;5;124m\"\u001b[39m\u001b[38;5;124mThe Number \u001b[39m\u001b[38;5;132;01m{\u001b[39;00mnum\u001b[38;5;132;01m}\u001b[39;00m\u001b[38;5;124m is Divisible By 5\u001b[39m\u001b[38;5;124m\"\u001b[39m)\n",
      "File \u001b[0;32m~/anaconda3/lib/python3.11/site-packages/ipykernel/kernelbase.py:1202\u001b[0m, in \u001b[0;36mKernel.raw_input\u001b[0;34m(self, prompt)\u001b[0m\n\u001b[1;32m   1200\u001b[0m     msg \u001b[38;5;241m=\u001b[39m \u001b[38;5;124m\"\u001b[39m\u001b[38;5;124mraw_input was called, but this frontend does not support input requests.\u001b[39m\u001b[38;5;124m\"\u001b[39m\n\u001b[1;32m   1201\u001b[0m     \u001b[38;5;28;01mraise\u001b[39;00m StdinNotImplementedError(msg)\n\u001b[0;32m-> 1202\u001b[0m \u001b[38;5;28;01mreturn\u001b[39;00m \u001b[38;5;28mself\u001b[39m\u001b[38;5;241m.\u001b[39m_input_request(\n\u001b[1;32m   1203\u001b[0m     \u001b[38;5;28mstr\u001b[39m(prompt),\n\u001b[1;32m   1204\u001b[0m     \u001b[38;5;28mself\u001b[39m\u001b[38;5;241m.\u001b[39m_parent_ident[\u001b[38;5;124m\"\u001b[39m\u001b[38;5;124mshell\u001b[39m\u001b[38;5;124m\"\u001b[39m],\n\u001b[1;32m   1205\u001b[0m     \u001b[38;5;28mself\u001b[39m\u001b[38;5;241m.\u001b[39mget_parent(\u001b[38;5;124m\"\u001b[39m\u001b[38;5;124mshell\u001b[39m\u001b[38;5;124m\"\u001b[39m),\n\u001b[1;32m   1206\u001b[0m     password\u001b[38;5;241m=\u001b[39m\u001b[38;5;28;01mFalse\u001b[39;00m,\n\u001b[1;32m   1207\u001b[0m )\n",
      "File \u001b[0;32m~/anaconda3/lib/python3.11/site-packages/ipykernel/kernelbase.py:1245\u001b[0m, in \u001b[0;36mKernel._input_request\u001b[0;34m(self, prompt, ident, parent, password)\u001b[0m\n\u001b[1;32m   1242\u001b[0m \u001b[38;5;28;01mexcept\u001b[39;00m \u001b[38;5;167;01mKeyboardInterrupt\u001b[39;00m:\n\u001b[1;32m   1243\u001b[0m     \u001b[38;5;66;03m# re-raise KeyboardInterrupt, to truncate traceback\u001b[39;00m\n\u001b[1;32m   1244\u001b[0m     msg \u001b[38;5;241m=\u001b[39m \u001b[38;5;124m\"\u001b[39m\u001b[38;5;124mInterrupted by user\u001b[39m\u001b[38;5;124m\"\u001b[39m\n\u001b[0;32m-> 1245\u001b[0m     \u001b[38;5;28;01mraise\u001b[39;00m \u001b[38;5;167;01mKeyboardInterrupt\u001b[39;00m(msg) \u001b[38;5;28;01mfrom\u001b[39;00m \u001b[38;5;28;01mNone\u001b[39;00m\n\u001b[1;32m   1246\u001b[0m \u001b[38;5;28;01mexcept\u001b[39;00m \u001b[38;5;167;01mException\u001b[39;00m:\n\u001b[1;32m   1247\u001b[0m     \u001b[38;5;28mself\u001b[39m\u001b[38;5;241m.\u001b[39mlog\u001b[38;5;241m.\u001b[39mwarning(\u001b[38;5;124m\"\u001b[39m\u001b[38;5;124mInvalid Message:\u001b[39m\u001b[38;5;124m\"\u001b[39m, exc_info\u001b[38;5;241m=\u001b[39m\u001b[38;5;28;01mTrue\u001b[39;00m)\n",
      "\u001b[0;31mKeyboardInterrupt\u001b[0m: Interrupted by user"
     ]
    }
   ],
   "source": [
    "num=float(input(\"Enter a Number:\"))\n",
    "if num%5==0:\n",
    "    print(f\"The Number {num} is Divisible By 5\")\n",
    "else:\n",
    "    print(f\"The Number {num} is not Divisible by 5\")\n",
    "   \n",
    "\n"
   ]
  },
  {
   "cell_type": "code",
   "execution_count": 26,
   "id": "a5f7a087",
   "metadata": {},
   "outputs": [
    {
     "name": "stdout",
     "output_type": "stream",
     "text": [
      "Enter a Number:54\n",
      "The Number 54.0 is not Divisible by 5\n"
     ]
    }
   ],
   "source": [
    "num=float(input(\"Enter a Number:\"))\n",
    "if num%5==0:\n",
    "    print(f\"The Number {num} is Divisible By 5\")\n",
    "else:\n",
    "    print(f\"The Number {num} is not Divisible by 5\")\n",
    "\n"
   ]
  },
  {
   "cell_type": "code",
   "execution_count": 31,
   "id": "196fe10d",
   "metadata": {},
   "outputs": [
    {
     "name": "stdout",
     "output_type": "stream",
     "text": [
      "Enter a String:Anjana\n",
      "Length of the String:6\n",
      "Anjana Contains Both Uppercase and Lowercase\n"
     ]
    }
   ],
   "source": [
    "string=input(\"Enter a String:\")\n",
    "length=len(string)\n",
    "print(f\"Length of the String:{length}\")\n",
    "if string.isupper():\n",
    "    print(f\"{string} is Uppercase\")\n",
    "elif string.islower():\n",
    "    print(f\"{string} is Lowercase\")\n",
    "else:\n",
    "    print(f\"{string} Contains Both Uppercase and Lowercase\")"
   ]
  },
  {
   "cell_type": "raw",
   "id": "b9e472e3",
   "metadata": {},
   "source": []
  },
  {
   "cell_type": "code",
   "execution_count": 32,
   "id": "e8d229e7",
   "metadata": {},
   "outputs": [
    {
     "name": "stdout",
     "output_type": "stream",
     "text": [
      "Enter  year:1988\n",
      "1988 is a leap Year\n"
     ]
    }
   ],
   "source": [
    "year=int(input(\"Enter  year:\"))\n",
    "if year%4==0 and (year%100!=0 or year%400 ==0):\n",
    "    print(f\"{year} is a leap Year\")\n",
    "else:\n",
    "    print(f\"{year} is Not a leap Year\")"
   ]
  },
  {
   "cell_type": "code",
   "execution_count": null,
   "id": "7fe56c0a",
   "metadata": {},
   "outputs": [],
   "source": []
  }
 ],
 "metadata": {
  "kernelspec": {
   "display_name": "Python 3 (ipykernel)",
   "language": "python",
   "name": "python3"
  },
  "language_info": {
   "codemirror_mode": {
    "name": "ipython",
    "version": 3
   },
   "file_extension": ".py",
   "mimetype": "text/x-python",
   "name": "python",
   "nbconvert_exporter": "python",
   "pygments_lexer": "ipython3",
   "version": "3.11.5"
  }
 },
 "nbformat": 4,
 "nbformat_minor": 5
}
