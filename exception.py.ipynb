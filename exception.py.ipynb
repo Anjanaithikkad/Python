{
 "cells": [
  {
   "cell_type": "code",
   "execution_count": 11,
   "id": "f7e3fd26",
   "metadata": {},
   "outputs": [
    {
     "name": "stdout",
     "output_type": "stream",
     "text": [
      "Enter a first number:abc\n",
      "Please enter a numeric value.\n",
      "Program Execution completed.\n"
     ]
    }
   ],
   "source": [
    "try:\n",
    "    a=int(input(\"Enter a first number:\"))\n",
    "    c=int(input(\"Enter second Number:\"))\n",
    "    b=a/c\n",
    "except ZeroDivisionError:\n",
    "    print(\"Zero is not dividable..\")\n",
    "except ValueError:\n",
    "    print(\"Please enter a numeric value.\")\n",
    "else:\n",
    "    print(b)\n",
    "finally:\n",
    "    print(\"Program Execution completed.\")"
   ]
  },
  {
   "cell_type": "code",
   "execution_count": null,
   "id": "c5e486f7",
   "metadata": {},
   "outputs": [],
   "source": []
  },
  {
   "cell_type": "code",
   "execution_count": null,
   "id": "78830add",
   "metadata": {},
   "outputs": [],
   "source": []
  }
 ],
 "metadata": {
  "kernelspec": {
   "display_name": "Python 3 (ipykernel)",
   "language": "python",
   "name": "python3"
  },
  "language_info": {
   "codemirror_mode": {
    "name": "ipython",
    "version": 3
   },
   "file_extension": ".py",
   "mimetype": "text/x-python",
   "name": "python",
   "nbconvert_exporter": "python",
   "pygments_lexer": "ipython3",
   "version": "3.11.5"
  }
 },
 "nbformat": 4,
 "nbformat_minor": 5
}
