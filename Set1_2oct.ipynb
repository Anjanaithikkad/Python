
{
 "cells": [
  {
   "cell_type": "code",
   "execution_count": 2,
   "id": "888c5b0d",
   "metadata": {},
   "outputs": [
    {
     "name": "stdout",
     "output_type": "stream",
     "text": [
      "Enter an Integer:5\n",
      "5+55+555=615\n"
     ]
    }
   ],
   "source": [
    "n=input(\"Enter an Integer:\")\n",
    "result=int(n)+int(n*2)+int(n*3)\n",
    "print(f\"{n}+{n*2}+{n*3}={result}\")"
   ]
  },
  {
   "cell_type": "code",
   "execution_count": 3,
   "id": "41abc7db",
   "metadata": {},
   "outputs": [
    {
     "name": "stdout",
     "output_type": "stream",
     "text": [
      "Enter the Radius of the Circle:3\n",
      "Area Of the Circle is: 28.274333882308138\n"
     ]
    }
   ],
   "source": [
    "import math as M\n",
    "Radius=float(input(\"Enter the Radius of the Circle:\"))\n",
    "Area=M.pi*Radius*Radius\n",
    "print(\"Area Of the Circle is:\",Area)"
   ]
  },
  {
   "cell_type": "code",
   "execution_count": 4,
   "id": "48e46320",
   "metadata": {},
   "outputs": [
    {
     "name": "stdout",
     "output_type": "stream",
     "text": [
      "Enter the First Number:43\n",
      "Enter the Second Number:50\n",
      "Enter the Third Number:38\n",
      "The Biggest Number is: 50\n"
     ]
    }
   ],
   "source": [
    "import math\n",
    "a=int(input(\"Enter the First Number:\"))\n",
    "b=int(input(\"Enter the Second Number:\"))\n",
    "c=int(input(\"Enter the Third Number:\"))\n",
    "Biggest=max(a,b,c)\n",
    "print(\"The Biggest Number is:\",Biggest)"
   ]
  },
  {
   "cell_type": "code",
   "execution_count": 6,
   "id": "4c64c729",
   "metadata": {},
   "outputs": [
    {
     "name": "stdout",
     "output_type": "stream",
     "text": [
      "Enter the Temperature in Celcius:30\n",
      "Coverted Temperature to Fahrenheit is: 86.0\n"
     ]
    }
   ],
   "source": [
    "celcius=float(input(\"Enter the Temperature in Celcius:\"))\n",
    "fahrenheit=celcius*9/5+32\n",
    "print(\"Coverted Temperature to Fahrenheit is:\",fahrenheit)\n",
    "    "
   ]
  },
  {
   "cell_type": "code",
   "execution_count": 9,
   "id": "b2deb9f8",
   "metadata": {},
   "outputs": [
    {
     "name": "stdout",
     "output_type": "stream",
     "text": [
      "Enter the Kilometres you Travelled:10\n",
      "You have travelled 6.213699999999999 Miles\n"
     ]
    }
   ],
   "source": [
    "Kilometre=float(input(\"Enter the Kilometres you Travelled:\"))\n",
    "miles=Kilometre*0.62137\n",
    "print(f\"You have travelled {miles} Miles\")"
   ]
  },
  {
   "cell_type": "code",
   "execution_count": 14,
   "id": "89e0b739",
   "metadata": {},
   "outputs": [
    {
     "name": "stdout",
     "output_type": "stream",
     "text": [
      "Enter the Price of product A:30\n",
      "Enter the Price of product B:430\n",
      "Enter the Price of product C:40\n",
      "Total price of the Product is:$500.0\n",
      "Final price(after 15% Discount) is:$425.0\n",
      "Average price of the Product is:$166.66666666666666\n",
      "Product A is Expensive than Final price: False\n",
      "Product B is Expensive than Final price: True\n",
      "Product C is Expensive than Final price: False\n",
      "Final price is in the range of $50 to $200: False\n"
     ]
    }
   ],
   "source": [
    "A=float(input(\"Enter the Price of product A:\"))\n",
    "B=float(input(\"Enter the Price of product B:\"))\n",
    "C=float(input(\"Enter the Price of product C:\"))\n",
    "Total_price=A+B+C\n",
    "print(f\"Total price of the Product is:${Total_price}\")\n",
    "Discount=Total_price*0.15\n",
    "Final_price=Total_price-Discount\n",
    "print(f\"Final price(after 15% Discount) is:${Final_price}\")\n",
    "Avg=Total_price/3\n",
    "print(f\"Average price of the Product is:${Avg}\")\n",
    "print(\"Product A is Expensive than Final price:\",A>Final_price)\n",
    "print(\"Product B is Expensive than Final price:\",B>Final_price)\n",
    "print(\"Product C is Expensive than Final price:\",C>Final_price)\n",
    "print(\"Final price is in the range of $50 to $200:\",50<=Final_price<=200)\n"
   ]
  },
  {
   "cell_type": "code",
   "execution_count": null,
   "id": "0cd5b254",
   "metadata": {},
   "outputs": [],
   "source": []
  }
 ],
 "metadata": {
  "kernelspec": {
   "display_name": "Python 3 (ipykernel)",
   "language": "python",
   "name": "python3"
  },
  "language_info": {
   "codemirror_mode": {
    "name": "ipython",
    "version": 3
   },
   "file_extension": ".py",
   "mimetype": "text/x-python",
   "name": "python",
   "nbconvert_exporter": "python",
   "pygments_lexer": "ipython3",
   "version": "3.11.5"
  }
 },
 "nbformat": 4,
 "nbformat_minor": 5
}
